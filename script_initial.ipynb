{
 "cells": [
  {
   "cell_type": "markdown",
   "metadata": {},
   "source": [
    "# My First Python Script "
   ]
  },
  {
   "cell_type": "code",
   "execution_count": 15,
   "metadata": {},
   "outputs": [
    {
     "name": "stdout",
     "output_type": "stream",
     "text": [
      "Hello Worlrd!\n"
     ]
    }
   ],
   "source": [
    "print(\"Hello Worlrd!\")"
   ]
  },
  {
   "cell_type": "code",
   "execution_count": 16,
   "metadata": {},
   "outputs": [
    {
     "name": "stdout",
     "output_type": "stream",
     "text": [
      "The itsy bitsy spder climbed up the waterspout\n"
     ]
    }
   ],
   "source": [
    "print(\"The itsy bitsy spder\" , \"climbed up\" , \"the waterspout\")"
   ]
  },
  {
   "cell_type": "markdown",
   "metadata": {},
   "source": [
    "Control structures"
   ]
  },
  {
   "cell_type": "code",
   "execution_count": 17,
   "metadata": {},
   "outputs": [
    {
     "name": "stdout",
     "output_type": "stream",
     "text": [
      "Adulto.\n"
     ]
    }
   ],
   "source": [
    "idade = 20\n",
    "if idade < 18:\n",
    "    print(\"Menor de idade.\")\n",
    "\n",
    "elif idade >= 18 and idade < 60:\n",
    "    print(\"Adulto.\")\n",
    "\n",
    "elif idade > 15:\n",
    "    print(\"Maior de 15 anos.\")\n",
    "\n",
    "elif idade == 60:\n",
    "    print(\"Parabéns pelos 60 anos!\")\n",
    "\n",
    "else:\n",
    "    print(\"Você é um idoso.\")"
   ]
  },
  {
   "cell_type": "markdown",
   "metadata": {},
   "source": [
    "Loops"
   ]
  },
  {
   "cell_type": "code",
   "execution_count": null,
   "metadata": {},
   "outputs": [],
   "source": [
    "print(\"Numeros de 1 a 10 multiplos de 2 com ciclo for:\")\n",
    "for i in range(1, 11):\n",
    "    print(i * 2)\n",
    "\n",
    "print(\"\\nNumeros de 1 a 10 multiplos de 2 com ciclo while:\")\n",
    "contador = 1\n",
    "while contador <= 10:\n",
    "    print(contador * 2)\n",
    "    contador += 1"
   ]
  },
  {
   "cell_type": "markdown",
   "metadata": {},
   "source": [
    "Estruturas de dados"
   ]
  },
  {
   "cell_type": "code",
   "execution_count": null,
   "metadata": {},
   "outputs": [],
   "source": [
    "frutas = [\"maçã\", \"banana\", \"laranja\"]\n",
    "\n",
    "\n",
    "frutas.append(\"pera\")\n",
    "print(frutas)  # Imprime [\"maçã\", \"banana\", \"laranja\", \"pera\"]\n",
    "\n",
    "\n",
    "frutas.insert(1, \"uva\")\n",
    "print(frutas)  # Imprime [\"maçã\", \"uva\", \"banana\", \"laranja\", \"pera\"]\n",
    "\n",
    "\n",
    "frutas.remove(\"banana\")\n",
    "print(frutas)  # Imprime [\"maçã\", \"uva\", \"laranja\", \"pera\"]\n",
    "\n",
    "\n",
    "fruta_removida = frutas.pop(2)\n",
    "print(frutas)  # Imprime [\"maçã\", \"uva\", \"pera\"]\n",
    "print(fruta_removida)  # Imprime \"laranja\"\n",
    "\n",
    "\n",
    "frutas.sort()\n",
    "print(frutas)  # Imprime [\"maçã\", \"pera\", \"uva\"]\n",
    "\n",
    "\n",
    "frutas.reverse()\n",
    "print(frutas)  # Imprime [\"uva\", \"pera\", \"maçã\"]"
   ]
  },
  {
   "cell_type": "markdown",
   "metadata": {},
   "source": [
    "Tuplas"
   ]
  },
  {
   "cell_type": "code",
   "execution_count": null,
   "metadata": {},
   "outputs": [],
   "source": [
    "ponto = (3, 4)\n",
    "print(ponto[0])  # Imprime 3\n",
    "print(ponto[1])  # Imprime 4"
   ]
  }
 ],
 "metadata": {
  "kernelspec": {
   "display_name": "venv",
   "language": "python",
   "name": "python3"
  },
  "language_info": {
   "codemirror_mode": {
    "name": "ipython",
    "version": 3
   },
   "file_extension": ".py",
   "mimetype": "text/x-python",
   "name": "python",
   "nbconvert_exporter": "python",
   "pygments_lexer": "ipython3",
   "version": "3.10.12"
  }
 },
 "nbformat": 4,
 "nbformat_minor": 2
}
